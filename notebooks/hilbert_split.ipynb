{
 "cells": [
  {
   "cell_type": "markdown",
   "metadata": {},
   "source": [
    "# Hilbert distance-based split into train and test\n",
    "\n",
    "This notebook illustrates the core of the approach to split chips into train and test used in the CEUS paper. There it was a bit more complicated than that but the principle is illustrated here."
   ]
  },
  {
   "cell_type": "code",
   "execution_count": 16,
   "metadata": {},
   "outputs": [],
   "source": [
    "import geopandas as gpd\n",
    "import numpy as np\n",
    "import matplotlib.pyplot as plt\n",
    "from shapely import box"
   ]
  },
  {
   "cell_type": "markdown",
   "metadata": {},
   "source": [
    "Get only a subset of the country for illustration - NW."
   ]
  },
  {
   "cell_type": "code",
   "execution_count": 3,
   "metadata": {},
   "outputs": [],
   "source": [
    "start_x, start_y, end_x, end_y = (321566, 365379, 468106, 437198)"
   ]
  },
  {
   "cell_type": "markdown",
   "metadata": {},
   "source": [
    "Load the data and clip them to the box defined above. The data from https://figshare.com/ndownloader/files/38736501"
   ]
  },
  {
   "cell_type": "code",
   "execution_count": 4,
   "metadata": {},
   "outputs": [],
   "source": [
    "signatures  = gpd.read_file(\"/Users/martin/Downloads/spatial_signatures_GB_simplified.gpkg\", bbox=(start_x, start_y, end_x, end_y)).clip(box(start_x, start_y, end_x, end_y))"
   ]
  },
  {
   "cell_type": "markdown",
   "metadata": {},
   "source": [
    "Get coordinates of chip centroids."
   ]
  },
  {
   "cell_type": "code",
   "execution_count": 5,
   "metadata": {},
   "outputs": [],
   "source": [
    "x_coords = np.arange(start_x, end_x, 250)\n",
    "y_coords = np.arange(start_y, end_y, 250)\n",
    "xv, yv = np.meshgrid(x_coords, y_coords)\n",
    "combinations = np.vstack([xv.ravel(), yv.ravel()])"
   ]
  },
  {
   "cell_type": "markdown",
   "metadata": {},
   "source": [
    "Get chip geoemtry."
   ]
  },
  {
   "cell_type": "code",
   "execution_count": 6,
   "metadata": {},
   "outputs": [],
   "source": [
    "grid_cells = gpd.GeoSeries.from_xy(x=combinations[0], y=combinations[1], crs=signatures.crs).buffer(125, cap_style=3)"
   ]
  },
  {
   "cell_type": "markdown",
   "metadata": {},
   "source": [
    "Filter only those fully within signatures."
   ]
  },
  {
   "cell_type": "code",
   "execution_count": 7,
   "metadata": {},
   "outputs": [],
   "source": [
    "sig_idx, grid_idx = grid_cells.sindex.query(signatures.geometry, predicate=\"contains\")\n",
    "valid_grid_cells = grid_cells.iloc[grid_idx].to_frame('geometry')\n",
    "valid_grid_cells[\"sig_id\"] = sig_idx"
   ]
  },
  {
   "cell_type": "markdown",
   "metadata": {},
   "source": [
    "Get unique signature IDs to pull from."
   ]
  },
  {
   "cell_type": "code",
   "execution_count": 8,
   "metadata": {},
   "outputs": [
    {
     "data": {
      "text/plain": [
       "745"
      ]
     },
     "execution_count": 8,
     "metadata": {},
     "output_type": "execute_result"
    }
   ],
   "source": [
    "unique = valid_grid_cells.sig_id.unique()\n",
    "unique.shape[0]"
   ]
  },
  {
   "cell_type": "markdown",
   "metadata": {},
   "source": [
    "Illustrate the split using Hilbert distance. Chip groups with less than 20 chips are not split and should be allocated together either to train or test. The distance itself could be retrieved via `GeoSeries.hilbert_distance()` if needed."
   ]
  },
  {
   "cell_type": "code",
   "execution_count": 27,
   "metadata": {},
   "outputs": [
    {
     "data": {
      "text/plain": [
       "Text(0.5, 1.0, 'hilbert distance')"
      ]
     },
     "execution_count": 27,
     "metadata": {},
     "output_type": "execute_result"
    },
    {
     "data": {
      "image/png": "[encoded data removed]",
      "text/plain": [
       "<Figure size 640x480 with 2 Axes>"
      ]
     },
     "metadata": {},
     "output_type": "display_data"
    }
   ],
   "source": [
    "g = valid_grid_cells[valid_grid_cells.sig_id == unique[79]]\n",
    "if g.shape[0] > 20:\n",
    "    split = np.empty(g.shape[0], dtype=int)\n",
    "    floor = int(np.floor(g.shape[0] * 0.8))\n",
    "    split[:floor] = 0\n",
    "    split[floor:] = 1\n",
    "else:\n",
    "    split = np.ones(g.shape[0])\n",
    "\n",
    "f, ax = plt.subplots(1, 2, sharey=True)\n",
    "g.sort_values(\"geometry\").plot(split, ax=ax[0])\n",
    "g.sort_values(\"geometry\").plot(cmap=\"viridis\", ax=ax[1])\n",
    "ax[0].set_title(\"split\")\n",
    "ax[1].set_title(\"hilbert distance\")"
   ]
  },
  {
   "cell_type": "code",
   "execution_count": null,
   "metadata": {},
   "outputs": [],
   "source": []
  }
 ],
 "metadata": {
  "kernelspec": {
   "display_name": "sds",
   "language": "python",
   "name": "sds"
  },
  "language_info": {
   "codemirror_mode": {
    "name": "ipython",
    "version": 3
   },
   "file_extension": ".py",
   "mimetype": "text/x-python",
   "name": "python",
   "nbconvert_exporter": "python",
   "pygments_lexer": "ipython3",
   "version": "3.12.5"
  }
 },
 "nbformat": 4,
 "nbformat_minor": 2
}
