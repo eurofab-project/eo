{
 "cells": [
  {
   "cell_type": "markdown",
   "id": "32f179b7",
   "metadata": {},
   "source": [
    "# Generate vector data cube\n",
    "\n",
    "Generate a vector data cube representation of the final data product, using CF encoding of geometries."
   ]
  },
  {
   "cell_type": "code",
   "execution_count": 18,
   "id": "8c1aaa09",
   "metadata": {},
   "outputs": [],
   "source": [
    "import os\n",
    "\n",
    "import xarray as xr\n",
    "import xvec\n",
    "import shapely\n",
    "\n",
    "os.environ[\"ZARR_V3_EXPERIMENTAL_API\"] = \"1\""
   ]
  },
  {
   "cell_type": "code",
   "execution_count": null,
   "id": "b03dc88f",
   "metadata": {},
   "outputs": [
    {
     "name": "stderr",
     "output_type": "stream",
     "text": [
      "/Users/martin/dev/xvec/.pixi/envs/default/lib/python3.13/site-packages/zarr/codecs/vlen_utf8.py:44: UserWarning: The codec `vlen-utf8` is currently not part in the Zarr format 3 specification. It may not be supported by other zarr implementations and may change in the future.\n",
      "  return cls(**configuration_parsed)\n"
     ]
    }
   ],
   "source": [
    "ds = xr.open_zarr(\"/eurofab_predictions_datacube.zarr\", zarr_format=3).load()"
   ]
  },
  {
   "cell_type": "code",
   "execution_count": 21,
   "id": "175f7bc8",
   "metadata": {},
   "outputs": [],
   "source": [
    "ds['geometry'] = xr.apply_ufunc(shapely.from_wkt, ds['geometry'])"
   ]
  },
  {
   "cell_type": "code",
   "execution_count": 48,
   "id": "3488613a",
   "metadata": {},
   "outputs": [],
   "source": [
    "vdc = ds.swap_dims(obs='geometry').drop_vars('obs').xvec.set_geom_indexes(\"geometry\", crs=27700)"
   ]
  },
  {
   "cell_type": "code",
   "execution_count": 81,
   "id": "76d0ebdc",
   "metadata": {},
   "outputs": [],
   "source": [
    "encoded = vdc.drop_vars(['lon', 'lat']).xvec.encode_cf()"
   ]
  },
  {
   "cell_type": "code",
   "execution_count": null,
   "id": "b92062d6",
   "metadata": {},
   "outputs": [
    {
     "name": "stderr",
     "output_type": "stream",
     "text": [
      "/Users/martin/dev/xvec/.pixi/envs/default/lib/python3.13/site-packages/zarr/api/asynchronous.py:205: UserWarning: Consolidated metadata is currently not part in the Zarr format 3 specification. It may not be supported by other zarr implementations and may change in the future.\n",
      "  warnings.warn(\n"
     ]
    },
    {
     "data": {
      "text/plain": [
       "<xarray.backends.zarr.ZarrStore at 0x3ccce3be0>"
      ]
     },
     "execution_count": 82,
     "metadata": {},
     "output_type": "execute_result"
    }
   ],
   "source": [
    "encoded.to_zarr(\"eurofab_predictions_vector_datacube.zarr\", mode=\"w\")"
   ]
  }
 ],
 "metadata": {
  "kernelspec": {
   "display_name": "default",
   "language": "python",
   "name": "python3"
  },
  "language_info": {
   "codemirror_mode": {
    "name": "ipython",
    "version": 3
   },
   "file_extension": ".py",
   "mimetype": "text/x-python",
   "name": "python",
   "nbconvert_exporter": "python",
   "pygments_lexer": "ipython3",
   "version": "3.13.2"
  }
 },
 "nbformat": 4,
 "nbformat_minor": 5
}
